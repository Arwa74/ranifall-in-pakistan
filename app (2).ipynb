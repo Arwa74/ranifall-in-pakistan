{
  "nbformat": 4,
  "nbformat_minor": 0,
  "metadata": {
    "colab": {
      "name": "FlaskOnColab.ipynb",
      "provenance": [],
      "collapsed_sections": []
    },
    "kernelspec": {
      "name": "python3",
      "display_name": "Python 3"
    },
    "language_info": {
      "name": "python"
    }
  },
  "cells": [
    {
      "cell_type": "code",
      "source": [
        "!pip install flask_ngrok"
      ],
      "metadata": {
        "id": "mCW4xoUiSM-V"
      },
      "execution_count": null,
      "outputs": []
    },
    {
      "cell_type": "code",
      "source": [
        "!ngrok config add-authtoken 2C0yEvpa8a3RoPSE0ZDTzAUcaUp_4ZaJww2mupjRsiuhJZKnG"
      ],
      "metadata": {
        "id": "ksPzVEh8EtvD"
      },
      "execution_count": null,
      "outputs": []
    },
    {
      "cell_type": "code",
      "execution_count": 18,
      "metadata": {
        "colab": {
          "base_uri": "https://localhost:8080/"
        },
        "id": "FTpXnotTRu48",
        "outputId": "97554ebf-10ac-411a-f91b-6e12df72f416"
      },
      "outputs": [
        {
          "output_type": "stream",
          "name": "stdout",
          "text": [
            " * Serving Flask app \"__main__\" (lazy loading)\n",
            " * Environment: production\n",
            "\u001b[31m   WARNING: This is a development server. Do not use it in a production deployment.\u001b[0m\n",
            "\u001b[2m   Use a production WSGI server instead.\u001b[0m\n",
            " * Debug mode: off\n"
          ]
        },
        {
          "output_type": "stream",
          "name": "stderr",
          "text": [
            " * Running on http://127.0.0.1:5000/ (Press CTRL+C to quit)\n"
          ]
        }
      ],
      "source": [
        "from flask_ngrok import run_with_ngrok\n",
        "from flask import Flask, render_template, request\n",
        "import pickle\n",
        "import numpy as np\n",
        "import pandas as pd\n",
        "\n",
        "data = pickle.load(open('model_pickle.pkl', 'rb'))\n",
        "\n",
        "\n",
        "# In[11]:\n",
        "\n",
        "\n",
        "app = Flask(__name__)\n",
        "\n",
        "\n",
        "\n",
        "@app.route('/')\n",
        "def man():\n",
        "    return render_template('RainfallinPakistan.html')\n",
        "@app.route('/', methods=['POST'])\n",
        "def predict():\n",
        "    M = np.array(df['Year'], df['Year'])\n",
        "    N = np.array(df['Month'].values.tolist())\n",
        "    first = request.form['M']\n",
        "    second = request.form['N']\n",
        "    arr = np.array([[1st, 2nd]])\n",
        "    pred = data.predict(arr)\n",
        "    return render_template('RainfallinPakistan.html', data=pred)\n",
        "\n",
        "if __name__ == \"__main__\":\n",
        "         app.debug== True;\n",
        "         app.run()"
      ]
    },
    {
      "cell_type": "code",
      "source": [
        ""
      ],
      "metadata": {
        "id": "b6AqjL_6SNmp"
      },
      "execution_count": null,
      "outputs": []
    }
  ]
}